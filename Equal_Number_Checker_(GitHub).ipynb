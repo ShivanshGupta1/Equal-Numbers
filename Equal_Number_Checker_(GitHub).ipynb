{
  "nbformat": 4,
  "nbformat_minor": 0,
  "metadata": {
    "colab": {
      "name": "Equal Number Checker (GitHub).ipynb",
      "provenance": [],
      "authorship_tag": "ABX9TyOuq2Eq8ka0JQ/n77dBjePa",
      "include_colab_link": true
    },
    "kernelspec": {
      "name": "python3",
      "display_name": "Python 3"
    }
  },
  "cells": [
    {
      "cell_type": "markdown",
      "metadata": {
        "id": "view-in-github",
        "colab_type": "text"
      },
      "source": [
        "<a href=\"https://colab.research.google.com/github/ShivanshGupta1/Equal-Numbers/blob/main/Equal_Number_Checker_(GitHub).ipynb\" target=\"_parent\"><img src=\"https://colab.research.google.com/assets/colab-badge.svg\" alt=\"Open In Colab\"/></a>"
      ]
    },
    {
      "cell_type": "code",
      "metadata": {
        "id": "zFTkT71Bx18t"
      },
      "source": [
        "a = int(input('First Number: '))\n",
        "b = int(input('Second Number: '))\n",
        "if a>b:\n",
        "  print(a)\n",
        "elif a<b:\n",
        "  print(b)\n",
        "else:\n",
        "  print('Both number are equal')"
      ],
      "execution_count": null,
      "outputs": []
    }
  ]
}